{
  "cells": [
    {
      "cell_type": "markdown",
      "metadata": {
        "id": "kZLRMFl0JyyQ"
      },
      "source": [
        "# **1. Perkenalan Dataset**\n"
      ]
    },
    {
      "cell_type": "markdown",
      "metadata": {
        "id": "hssSDn-5n3HR"
      },
      "source": [
        "Tahap pertama, Anda harus mencari dan menggunakan dataset dengan ketentuan sebagai berikut:\n",
        "\n",
        "1. **Sumber Dataset**:  \n",
        "   Dataset dapat diperoleh dari berbagai sumber, seperti public repositories (*Kaggle*, *UCI ML Repository*, *Open Data*) atau data primer yang Anda kumpulkan sendiri.\n"
      ]
    },
    {
      "cell_type": "markdown",
      "metadata": {
        "id": "l-I4v_R4HXtG"
      },
      "source": [
        "Link: https://www.kaggle.com/datasets/rakeshkapilavai/extrovert-vs-introvert-behavior-data/data\n",
        "\n",
        "**Extrovert vs. Introvert Behavior Data**\n",
        "\n",
        "\n",
        "Dataset"
      ]
    },
    {
      "cell_type": "markdown",
      "metadata": {
        "id": "fKADPWcFKlj3"
      },
      "source": [
        "# **2. Import Library**"
      ]
    },
    {
      "cell_type": "markdown",
      "metadata": {
        "id": "LgA3ERnVn84N"
      },
      "source": [
        "Pada tahap ini, Anda perlu mengimpor beberapa pustaka (library) Python yang dibutuhkan untuk analisis data dan pembangunan model machine learning atau deep learning."
      ]
    },
    {
      "cell_type": "code",
      "execution_count": 2,
      "metadata": {
        "id": "BlmvjLY9M4Yj"
      },
      "outputs": [],
      "source": [
        "#Type your code here\n",
        "import pandas as pd\n",
        "import numpy as np\n",
        "import matplotlib.pyplot as plt\n",
        "import seaborn as sns\n",
        "from sklearn.preprocessing import OrdinalEncoder, StandardScaler\n",
        "from sklearn.model_selection import train_test_split\n",
        "from sklearn.impute import SimpleImputer\n"
      ]
    },
    {
      "cell_type": "markdown",
      "metadata": {
        "id": "f3YIEnAFKrKL"
      },
      "source": [
        "# **3. Memuat Dataset**"
      ]
    },
    {
      "cell_type": "markdown",
      "metadata": {
        "id": "Ey3ItwTen_7E"
      },
      "source": [
        "Pada tahap ini, Anda perlu memuat dataset ke dalam notebook. Jika dataset dalam format CSV, Anda bisa menggunakan pustaka pandas untuk membacanya. Pastikan untuk mengecek beberapa baris awal dataset untuk memahami strukturnya dan memastikan data telah dimuat dengan benar.\n",
        "\n",
        "Jika dataset berada di Google Drive, pastikan Anda menghubungkan Google Drive ke Colab terlebih dahulu. Setelah dataset berhasil dimuat, langkah berikutnya adalah memeriksa kesesuaian data dan siap untuk dianalisis lebih lanjut.\n",
        "\n",
        "Jika dataset berupa unstructured data, silakan sesuaikan dengan format seperti kelas Machine Learning Pengembangan atau Machine Learning Terapan"
      ]
    },
    {
      "cell_type": "code",
      "execution_count": 3,
      "metadata": {
        "colab": {
          "base_uri": "https://localhost:8080/"
        },
        "id": "GHCGNTyrM5fS",
        "outputId": "f136bd3b-9364-4c66-a1dc-8c35d869d5a0"
      },
      "outputs": [],
      "source": [
        "#Type your code here\n",
        "df = pd.read_csv('personality_dataset.csv')"
      ]
    },
    {
      "cell_type": "code",
      "execution_count": 4,
      "metadata": {
        "colab": {
          "base_uri": "https://localhost:8080/",
          "height": 226
        },
        "id": "504XrpBzI1iP",
        "outputId": "6831a7e3-2a52-4e74-9564-1925d1563a33"
      },
      "outputs": [
        {
          "data": {
            "text/html": [
              "<div>\n",
              "<style scoped>\n",
              "    .dataframe tbody tr th:only-of-type {\n",
              "        vertical-align: middle;\n",
              "    }\n",
              "\n",
              "    .dataframe tbody tr th {\n",
              "        vertical-align: top;\n",
              "    }\n",
              "\n",
              "    .dataframe thead th {\n",
              "        text-align: right;\n",
              "    }\n",
              "</style>\n",
              "<table border=\"1\" class=\"dataframe\">\n",
              "  <thead>\n",
              "    <tr style=\"text-align: right;\">\n",
              "      <th></th>\n",
              "      <th>Time_spent_Alone</th>\n",
              "      <th>Stage_fear</th>\n",
              "      <th>Social_event_attendance</th>\n",
              "      <th>Going_outside</th>\n",
              "      <th>Drained_after_socializing</th>\n",
              "      <th>Friends_circle_size</th>\n",
              "      <th>Post_frequency</th>\n",
              "      <th>Personality</th>\n",
              "    </tr>\n",
              "  </thead>\n",
              "  <tbody>\n",
              "    <tr>\n",
              "      <th>0</th>\n",
              "      <td>4.0</td>\n",
              "      <td>No</td>\n",
              "      <td>4.0</td>\n",
              "      <td>6.0</td>\n",
              "      <td>No</td>\n",
              "      <td>13.0</td>\n",
              "      <td>5.0</td>\n",
              "      <td>Extrovert</td>\n",
              "    </tr>\n",
              "    <tr>\n",
              "      <th>1</th>\n",
              "      <td>9.0</td>\n",
              "      <td>Yes</td>\n",
              "      <td>0.0</td>\n",
              "      <td>0.0</td>\n",
              "      <td>Yes</td>\n",
              "      <td>0.0</td>\n",
              "      <td>3.0</td>\n",
              "      <td>Introvert</td>\n",
              "    </tr>\n",
              "    <tr>\n",
              "      <th>2</th>\n",
              "      <td>9.0</td>\n",
              "      <td>Yes</td>\n",
              "      <td>1.0</td>\n",
              "      <td>2.0</td>\n",
              "      <td>Yes</td>\n",
              "      <td>5.0</td>\n",
              "      <td>2.0</td>\n",
              "      <td>Introvert</td>\n",
              "    </tr>\n",
              "    <tr>\n",
              "      <th>3</th>\n",
              "      <td>0.0</td>\n",
              "      <td>No</td>\n",
              "      <td>6.0</td>\n",
              "      <td>7.0</td>\n",
              "      <td>No</td>\n",
              "      <td>14.0</td>\n",
              "      <td>8.0</td>\n",
              "      <td>Extrovert</td>\n",
              "    </tr>\n",
              "    <tr>\n",
              "      <th>4</th>\n",
              "      <td>3.0</td>\n",
              "      <td>No</td>\n",
              "      <td>9.0</td>\n",
              "      <td>4.0</td>\n",
              "      <td>No</td>\n",
              "      <td>8.0</td>\n",
              "      <td>5.0</td>\n",
              "      <td>Extrovert</td>\n",
              "    </tr>\n",
              "  </tbody>\n",
              "</table>\n",
              "</div>"
            ],
            "text/plain": [
              "   Time_spent_Alone Stage_fear  Social_event_attendance  Going_outside  \\\n",
              "0               4.0         No                      4.0            6.0   \n",
              "1               9.0        Yes                      0.0            0.0   \n",
              "2               9.0        Yes                      1.0            2.0   \n",
              "3               0.0         No                      6.0            7.0   \n",
              "4               3.0         No                      9.0            4.0   \n",
              "\n",
              "  Drained_after_socializing  Friends_circle_size  Post_frequency Personality  \n",
              "0                        No                 13.0             5.0   Extrovert  \n",
              "1                       Yes                  0.0             3.0   Introvert  \n",
              "2                       Yes                  5.0             2.0   Introvert  \n",
              "3                        No                 14.0             8.0   Extrovert  \n",
              "4                        No                  8.0             5.0   Extrovert  "
            ]
          },
          "execution_count": 4,
          "metadata": {},
          "output_type": "execute_result"
        }
      ],
      "source": [
        "df.head()"
      ]
    },
    {
      "cell_type": "markdown",
      "metadata": {
        "id": "bgZkbJLpK9UR"
      },
      "source": [
        "# **4. Exploratory Data Analysis (EDA)**\n",
        "\n",
        "Pada tahap ini, Anda akan melakukan **Exploratory Data Analysis (EDA)** untuk memahami karakteristik dataset.\n",
        "\n",
        "Tujuan dari EDA adalah untuk memperoleh wawasan awal yang mendalam mengenai data dan menentukan langkah selanjutnya dalam analisis atau pemodelan."
      ]
    },
    {
      "cell_type": "code",
      "execution_count": 5,
      "metadata": {
        "colab": {
          "base_uri": "https://localhost:8080/"
        },
        "id": "dKeejtvxM6X1",
        "outputId": "1df1a80d-4f22-4bed-9457-0b37471dfd7d"
      },
      "outputs": [
        {
          "name": "stdout",
          "output_type": "stream",
          "text": [
            "<class 'pandas.core.frame.DataFrame'>\n",
            "RangeIndex: 2900 entries, 0 to 2899\n",
            "Data columns (total 8 columns):\n",
            " #   Column                     Non-Null Count  Dtype  \n",
            "---  ------                     --------------  -----  \n",
            " 0   Time_spent_Alone           2837 non-null   float64\n",
            " 1   Stage_fear                 2827 non-null   object \n",
            " 2   Social_event_attendance    2838 non-null   float64\n",
            " 3   Going_outside              2834 non-null   float64\n",
            " 4   Drained_after_socializing  2848 non-null   object \n",
            " 5   Friends_circle_size        2823 non-null   float64\n",
            " 6   Post_frequency             2835 non-null   float64\n",
            " 7   Personality                2900 non-null   object \n",
            "dtypes: float64(5), object(3)\n",
            "memory usage: 181.4+ KB\n"
          ]
        }
      ],
      "source": [
        "#Type your code here\n",
        "df.info()"
      ]
    },
    {
      "cell_type": "markdown",
      "metadata": {
        "id": "sccAjzfaI7x9"
      },
      "source": [
        "Dataset ini terdiri dari 8 kolom dengan 2900 baris. Terdapat 5 fitur dengan tipe data float dan 3 fitur dengan tipe data object. Beberapa fitur terindikasi missing value."
      ]
    },
    {
      "cell_type": "code",
      "execution_count": 6,
      "metadata": {
        "colab": {
          "base_uri": "https://localhost:8080/",
          "height": 335
        },
        "id": "QIbvO3g0JJfD",
        "outputId": "04048975-d456-4a78-c12a-0e0985809bc4"
      },
      "outputs": [
        {
          "data": {
            "text/plain": [
              "Time_spent_Alone             63\n",
              "Stage_fear                   73\n",
              "Social_event_attendance      62\n",
              "Going_outside                66\n",
              "Drained_after_socializing    52\n",
              "Friends_circle_size          77\n",
              "Post_frequency               65\n",
              "Personality                   0\n",
              "dtype: int64"
            ]
          },
          "execution_count": 6,
          "metadata": {},
          "output_type": "execute_result"
        }
      ],
      "source": [
        "df.isna().sum()"
      ]
    },
    {
      "cell_type": "markdown",
      "metadata": {
        "id": "r1IccaZcJMRq"
      },
      "source": [
        "Dengan menggunakan fungsi .isna() kita bisa melihat bahwa hampir seluruh fitur memiliki missing value."
      ]
    },
    {
      "cell_type": "code",
      "execution_count": 7,
      "metadata": {
        "colab": {
          "base_uri": "https://localhost:8080/",
          "height": 414
        },
        "id": "iMGJKf8AJYFL",
        "outputId": "a390da93-8cd9-40f3-87ca-f991e9c9104f"
      },
      "outputs": [
        {
          "data": {
            "text/html": [
              "<div>\n",
              "<style scoped>\n",
              "    .dataframe tbody tr th:only-of-type {\n",
              "        vertical-align: middle;\n",
              "    }\n",
              "\n",
              "    .dataframe tbody tr th {\n",
              "        vertical-align: top;\n",
              "    }\n",
              "\n",
              "    .dataframe thead th {\n",
              "        text-align: right;\n",
              "    }\n",
              "</style>\n",
              "<table border=\"1\" class=\"dataframe\">\n",
              "  <thead>\n",
              "    <tr style=\"text-align: right;\">\n",
              "      <th></th>\n",
              "      <th>Time_spent_Alone</th>\n",
              "      <th>Social_event_attendance</th>\n",
              "      <th>Going_outside</th>\n",
              "      <th>Friends_circle_size</th>\n",
              "      <th>Post_frequency</th>\n",
              "    </tr>\n",
              "  </thead>\n",
              "  <tbody>\n",
              "    <tr>\n",
              "      <th>count</th>\n",
              "      <td>2837.000000</td>\n",
              "      <td>2838.000000</td>\n",
              "      <td>2834.000000</td>\n",
              "      <td>2823.000000</td>\n",
              "      <td>2835.000000</td>\n",
              "    </tr>\n",
              "    <tr>\n",
              "      <th>mean</th>\n",
              "      <td>4.505816</td>\n",
              "      <td>3.963354</td>\n",
              "      <td>3.000000</td>\n",
              "      <td>6.268863</td>\n",
              "      <td>3.564727</td>\n",
              "    </tr>\n",
              "    <tr>\n",
              "      <th>std</th>\n",
              "      <td>3.479192</td>\n",
              "      <td>2.903827</td>\n",
              "      <td>2.247327</td>\n",
              "      <td>4.289693</td>\n",
              "      <td>2.926582</td>\n",
              "    </tr>\n",
              "    <tr>\n",
              "      <th>min</th>\n",
              "      <td>0.000000</td>\n",
              "      <td>0.000000</td>\n",
              "      <td>0.000000</td>\n",
              "      <td>0.000000</td>\n",
              "      <td>0.000000</td>\n",
              "    </tr>\n",
              "    <tr>\n",
              "      <th>25%</th>\n",
              "      <td>2.000000</td>\n",
              "      <td>2.000000</td>\n",
              "      <td>1.000000</td>\n",
              "      <td>3.000000</td>\n",
              "      <td>1.000000</td>\n",
              "    </tr>\n",
              "    <tr>\n",
              "      <th>50%</th>\n",
              "      <td>4.000000</td>\n",
              "      <td>3.000000</td>\n",
              "      <td>3.000000</td>\n",
              "      <td>5.000000</td>\n",
              "      <td>3.000000</td>\n",
              "    </tr>\n",
              "    <tr>\n",
              "      <th>75%</th>\n",
              "      <td>8.000000</td>\n",
              "      <td>6.000000</td>\n",
              "      <td>5.000000</td>\n",
              "      <td>10.000000</td>\n",
              "      <td>6.000000</td>\n",
              "    </tr>\n",
              "    <tr>\n",
              "      <th>max</th>\n",
              "      <td>11.000000</td>\n",
              "      <td>10.000000</td>\n",
              "      <td>7.000000</td>\n",
              "      <td>15.000000</td>\n",
              "      <td>10.000000</td>\n",
              "    </tr>\n",
              "  </tbody>\n",
              "</table>\n",
              "</div>"
            ],
            "text/plain": [
              "       Time_spent_Alone  Social_event_attendance  Going_outside  \\\n",
              "count       2837.000000              2838.000000    2834.000000   \n",
              "mean           4.505816                 3.963354       3.000000   \n",
              "std            3.479192                 2.903827       2.247327   \n",
              "min            0.000000                 0.000000       0.000000   \n",
              "25%            2.000000                 2.000000       1.000000   \n",
              "50%            4.000000                 3.000000       3.000000   \n",
              "75%            8.000000                 6.000000       5.000000   \n",
              "max           11.000000                10.000000       7.000000   \n",
              "\n",
              "       Friends_circle_size  Post_frequency  \n",
              "count          2823.000000     2835.000000  \n",
              "mean              6.268863        3.564727  \n",
              "std               4.289693        2.926582  \n",
              "min               0.000000        0.000000  \n",
              "25%               3.000000        1.000000  \n",
              "50%               5.000000        3.000000  \n",
              "75%              10.000000        6.000000  \n",
              "max              15.000000       10.000000  "
            ]
          },
          "execution_count": 7,
          "metadata": {},
          "output_type": "execute_result"
        }
      ],
      "source": [
        "df.describe()"
      ]
    },
    {
      "cell_type": "markdown",
      "metadata": {
        "id": "Pq_n8ZckJwhB"
      },
      "source": [
        "Dari tabel tersebut kita bisa melihat bagaimana sebaran data."
      ]
    },
    {
      "cell_type": "code",
      "execution_count": 8,
      "metadata": {
        "id": "bTpwaWPJKOwe"
      },
      "outputs": [],
      "source": [
        "categorical = df.select_dtypes(include=['object']).columns\n",
        "numerical = df.select_dtypes(include=['number']).columns"
      ]
    },
    {
      "cell_type": "code",
      "execution_count": 29,
      "metadata": {},
      "outputs": [
        {
          "data": {
            "text/plain": [
              "Index(['Stage_fear', 'Drained_after_socializing', 'Personality'], dtype='object')"
            ]
          },
          "execution_count": 29,
          "metadata": {},
          "output_type": "execute_result"
        }
      ],
      "source": [
        "categorical"
      ]
    },
    {
      "cell_type": "markdown",
      "metadata": {
        "id": "lYbxBswmKmQa"
      },
      "source": [
        "Kita akan memisahkan data kategorikal dan data numerik untuk melakukan EDA."
      ]
    },
    {
      "cell_type": "code",
      "execution_count": 12,
      "metadata": {
        "colab": {
          "base_uri": "https://localhost:8080/",
          "height": 213
        },
        "id": "1hoiR_wTKs7M",
        "outputId": "d8fd7136-2f55-4bee-afe3-e28be0a1d5e3"
      },
      "outputs": [
        {
          "data": {
            "image/png": "[encoded data removed]",
            "text/plain": [
              "<Figure size 2100x500 with 3 Axes>"
            ]
          },
          "metadata": {},
          "output_type": "display_data"
        }
      ],
      "source": [
        "# Sebaran data kategorikal\n",
        "\n",
        "# Menghitung banyaknya plot yang akan digunakan\n",
        "num_plots = len(categorical)\n",
        "# Menghitung jumlah kolom yang akan digunakan\n",
        "num_cols = 3\n",
        "# Menghitun jumlah baris yang akan digunakan\n",
        "num_rows = (num_plots + num_cols - 1) // num_cols\n",
        "\n",
        "fig, axes = plt.subplots(num_rows, num_cols, figsize=(num_cols*7, num_rows*5))\n",
        "\n",
        "for i, col in enumerate(categorical):\n",
        "  sns.countplot(x=col, hue='Personality', data=df, palette='Set2', ax=axes[i])\n",
        "  axes[i].set_title(f\"Count Plot: {col} by Personality\")\n",
        "  axes[i].set_xlabel(col)\n",
        "  axes[i].set_ylabel('Count')\n",
        "plt.tight_layout()\n",
        "plt.show()\n",
        "\n"
      ]
    },
    {
      "cell_type": "markdown",
      "metadata": {
        "id": "BrrpYCwQTKCA"
      },
      "source": [
        "* Stage_fear adalah fitur yang menyatakan adanya demam panggung. Dari plot tersebut dilihat, jika kebanyakan extrovert tidak merasakan demam panggung. Sebaliknya, introvert lebih banyak merasakan demam panggung dibandingkan dengan extrovert.\n",
        "\n",
        "* Drained_after_socializing adalah parameter yang menentukan apakah seseorang merekasan kelelahan setelah bersosialisasi. Dari plot tersebut kebanyakan introvert mengalami hal ini daripada extrovert. Sementara kebanyakan extrovert tidak mengalami demam panggung.\n",
        "\n",
        "* Personality adalah kategori apakah seseorang termasuk ke dalam kategori extrovert atau introvert. Pada grafik tersebut sebaran antara introvert dan extrovert jumlahnya tidak jauh berbeda. Hanya saya Extrovert lebih banyak sedikit daripada introvert."
      ]
    },
    {
      "cell_type": "code",
      "execution_count": 13,
      "metadata": {
        "colab": {
          "base_uri": "https://localhost:8080/",
          "height": 911
        },
        "id": "1zG-ItqaLE3Y",
        "outputId": "9804f33d-fc5d-4204-ef97-6a4c2438ee5b"
      },
      "outputs": [
        {
          "data": {
            "image/png": "[encoded data removed]",
            "text/plain": [
              "<Figure size 1400x1500 with 6 Axes>"
            ]
          },
          "metadata": {},
          "output_type": "display_data"
        }
      ],
      "source": [
        "# Sebaran data numerik\n",
        "\n",
        "# Menghitung banyaknya plot yang akan digunakan\n",
        "num_plots = len(numerical)\n",
        "# Menghitung jumlah kolom yang akan digunakan\n",
        "num_cols = 2\n",
        "# Menghitun jumlah baris yang akan digunakan\n",
        "num_rows = (num_plots + num_cols - 1) // num_cols\n",
        "\n",
        "fig, axes = plt.subplots(num_rows, num_cols, figsize=(num_cols*7, num_rows*5))\n",
        "\n",
        "if num_rows == 1 and num_cols == 1:\n",
        "  axes = np.array([axes])\n",
        "elif num_rows == 1 or num_cols == 1:\n",
        "  axes = axes.flatten()\n",
        "else:\n",
        "  axes = axes.flatten()\n",
        "\n",
        "for i, col in enumerate(numerical):\n",
        "  sns.boxplot(x=col, hue='Personality', data=df, palette='Set2', ax=axes[i])\n",
        "  axes[i].set_title(f\"Count Plot: {col} by Personality\")\n",
        "  axes[i].set_xlabel(col)\n",
        "  axes[i].set_ylabel('Count')\n",
        "plt.tight_layout()\n",
        "plt.show()\n",
        "\n",
        "\n",
        "# for col in numerical:\n",
        "#   plt.figure(figsize=(8, 6))\n",
        "#   sns.boxplot(x='Personality', y=col, data=df, palette='Set2')\n",
        "#   plt.title(f\"Box Plot: {col} by Personality\")\n",
        "#   plt.show()"
      ]
    },
    {
      "cell_type": "markdown",
      "metadata": {
        "id": "Rt02AW0jYbpl"
      },
      "source": [
        "Dari grafik keseluruhan dapat disimpulkan:\n",
        "1. Introvert\n",
        "Orang yang memiliki kepribadian introvert kebanyakan mengalami demam panggung, mengalami kelelahan setelah bersosialisasi, banyak menghabiskan waktu sendiri, jarang mengikuti acara sosial, memiliki frekuensi keluar rumah yang jarang, sedikit lingkaran pertemanan, dan jarang memposting sesuatu di sosial media mereka.\n",
        "\n",
        "2. Extrovert\n",
        "Orang yang memiliki kerpibadian extrovert sangat jarang yang mengalami demam panggung, rata-rata dari mereka hanya menghabiskan waktu 2 jam untuk menghabiskan waktu sendiri, mereka sering mengikuti kegiatan sosial, sering keluar rumah, memiliki banyak lingkaran pertemanan dan rata-rata postingan sosial media sebanyak 6"
      ]
    },
    {
      "cell_type": "code",
      "execution_count": 14,
      "metadata": {
        "colab": {
          "base_uri": "https://localhost:8080/",
          "height": 705
        },
        "id": "kIeSFpjiZ0Dq",
        "outputId": "76081e6e-a758-4df8-ac3c-159f62136132"
      },
      "outputs": [
        {
          "data": {
            "image/png": "[encoded data removed]",
            "text/plain": [
              "<Figure size 800x600 with 2 Axes>"
            ]
          },
          "metadata": {},
          "output_type": "display_data"
        }
      ],
      "source": [
        "# Hitung korelasi\n",
        "plt.figure(figsize=(8,6))\n",
        "sns.heatmap(df[numerical].corr(), annot=True, cmap='coolwarm', fmt='.2f')\n",
        "plt.title('Matriks Korelasi')\n",
        "plt.show()"
      ]
    },
    {
      "cell_type": "markdown",
      "metadata": {
        "id": "9CfIxP0baZOA"
      },
      "source": [
        "* Time_spent_Alone\n",
        "  * Time_spent Alone vs Social_event_attendance, memiliki korelasi negatif yang kuat. Semakin banyak waktu yang dihabiskan sendirian, semakin rendah kemungkinan seseorang menghadiri acara sosial, dan sebaliknya.\n",
        "  * Time_spent_Alone vs Going_outside, memiliki korelasi negatif yang sama seperti kegiatan sosial. Semakin banyak waktu yang dihabiskan sendirian, semakin kecil seseorang pergi keluar\n",
        "  * with Friends_circle_size, orang yang banyak menghabiskan waktu sendiri cenderung memiliki lingakran pertemanan yang kecil.\n",
        "  * woth Post_frequency, orang yang menghabiskan waktu sendirian, jarang sekali melakukan postingan media sosial.\n",
        "\n",
        "Secara keseluruhan, semua variabel sosial (Social_event_attendance, Going_outside, Friends_circle_size, Post_frequency) memiliki korelasi positif yang kuat satu sama lain. Ini menunjukkan bahwa mereka semua cenderung bergerak bersama; jika seseorang aktif dalam satu aspek sosial, kemungkinan besar mereka juga aktif dalam aspek sosial lainnya.\n"
      ]
    },
    {
      "cell_type": "markdown",
      "metadata": {
        "id": "cpgHfgnSK3ip"
      },
      "source": [
        "# **5. Data Preprocessing**"
      ]
    },
    {
      "cell_type": "markdown",
      "metadata": {
        "id": "COf8KUPXLg5r"
      },
      "source": [
        "Pada tahap ini, data preprocessing adalah langkah penting untuk memastikan kualitas data sebelum digunakan dalam model machine learning.\n",
        "\n",
        "Jika Anda menggunakan data teks, data mentah sering kali mengandung nilai kosong, duplikasi, atau rentang nilai yang tidak konsisten, yang dapat memengaruhi kinerja model. Oleh karena itu, proses ini bertujuan untuk membersihkan dan mempersiapkan data agar analisis berjalan optimal.\n",
        "\n",
        "Berikut adalah tahapan-tahapan yang bisa dilakukan, tetapi **tidak terbatas** pada:\n",
        "1. Menghapus atau Menangani Data Kosong (Missing Values)\n",
        "2. Menghapus Data Duplikat\n",
        "3. Normalisasi atau Standarisasi Fitur\n",
        "4. Deteksi dan Penanganan Outlier\n",
        "5. Encoding Data Kategorikal\n",
        "6. Binning (Pengelompokan Data)\n",
        "\n",
        "Cukup sesuaikan dengan karakteristik data yang kamu gunakan yah. Khususnya ketika kami menggunakan data tidak terstruktur."
      ]
    },
    {
      "cell_type": "markdown",
      "metadata": {
        "id": "OW-l6flbb8nS"
      },
      "source": [
        "1. Menghapus atau menangani missing value"
      ]
    },
    {
      "cell_type": "code",
      "execution_count": 15,
      "metadata": {
        "colab": {
          "base_uri": "https://localhost:8080/"
        },
        "id": "Og8pGV0-iDLz",
        "outputId": "ca373b88-f295-469e-a5d1-3a480c898c04"
      },
      "outputs": [
        {
          "name": "stdout",
          "output_type": "stream",
          "text": [
            "Time_spent_Alone             63\n",
            "Stage_fear                   73\n",
            "Social_event_attendance      62\n",
            "Going_outside                66\n",
            "Drained_after_socializing    52\n",
            "Friends_circle_size          77\n",
            "Post_frequency               65\n",
            "Personality                   0\n",
            "dtype: int64\n"
          ]
        }
      ],
      "source": [
        "print(df.isna().sum())"
      ]
    },
    {
      "cell_type": "code",
      "execution_count": 16,
      "metadata": {
        "colab": {
          "base_uri": "https://localhost:8080/",
          "height": 444
        },
        "id": "16ECEQ1jcS1I",
        "outputId": "a221a793-6888-4978-96b2-22e36005ab02"
      },
      "outputs": [
        {
          "data": {
            "text/html": [
              "<div>\n",
              "<style scoped>\n",
              "    .dataframe tbody tr th:only-of-type {\n",
              "        vertical-align: middle;\n",
              "    }\n",
              "\n",
              "    .dataframe tbody tr th {\n",
              "        vertical-align: top;\n",
              "    }\n",
              "\n",
              "    .dataframe thead th {\n",
              "        text-align: right;\n",
              "    }\n",
              "</style>\n",
              "<table border=\"1\" class=\"dataframe\">\n",
              "  <thead>\n",
              "    <tr style=\"text-align: right;\">\n",
              "      <th></th>\n",
              "      <th>Time_spent_Alone</th>\n",
              "      <th>Stage_fear</th>\n",
              "      <th>Social_event_attendance</th>\n",
              "      <th>Going_outside</th>\n",
              "      <th>Drained_after_socializing</th>\n",
              "      <th>Friends_circle_size</th>\n",
              "      <th>Post_frequency</th>\n",
              "      <th>Personality</th>\n",
              "    </tr>\n",
              "  </thead>\n",
              "  <tbody>\n",
              "    <tr>\n",
              "      <th>59</th>\n",
              "      <td>NaN</td>\n",
              "      <td>No</td>\n",
              "      <td>9.0</td>\n",
              "      <td>4.0</td>\n",
              "      <td>No</td>\n",
              "      <td>7.0</td>\n",
              "      <td>5.0</td>\n",
              "      <td>Extrovert</td>\n",
              "    </tr>\n",
              "    <tr>\n",
              "      <th>125</th>\n",
              "      <td>NaN</td>\n",
              "      <td>Yes</td>\n",
              "      <td>3.0</td>\n",
              "      <td>0.0</td>\n",
              "      <td>Yes</td>\n",
              "      <td>2.0</td>\n",
              "      <td>1.0</td>\n",
              "      <td>Introvert</td>\n",
              "    </tr>\n",
              "    <tr>\n",
              "      <th>171</th>\n",
              "      <td>NaN</td>\n",
              "      <td>No</td>\n",
              "      <td>4.0</td>\n",
              "      <td>7.0</td>\n",
              "      <td>No</td>\n",
              "      <td>7.0</td>\n",
              "      <td>5.0</td>\n",
              "      <td>Extrovert</td>\n",
              "    </tr>\n",
              "    <tr>\n",
              "      <th>180</th>\n",
              "      <td>NaN</td>\n",
              "      <td>No</td>\n",
              "      <td>8.0</td>\n",
              "      <td>5.0</td>\n",
              "      <td>No</td>\n",
              "      <td>9.0</td>\n",
              "      <td>4.0</td>\n",
              "      <td>Extrovert</td>\n",
              "    </tr>\n",
              "    <tr>\n",
              "      <th>207</th>\n",
              "      <td>NaN</td>\n",
              "      <td>Yes</td>\n",
              "      <td>2.0</td>\n",
              "      <td>2.0</td>\n",
              "      <td>Yes</td>\n",
              "      <td>1.0</td>\n",
              "      <td>2.0</td>\n",
              "      <td>Introvert</td>\n",
              "    </tr>\n",
              "    <tr>\n",
              "      <th>...</th>\n",
              "      <td>...</td>\n",
              "      <td>...</td>\n",
              "      <td>...</td>\n",
              "      <td>...</td>\n",
              "      <td>...</td>\n",
              "      <td>...</td>\n",
              "      <td>...</td>\n",
              "      <td>...</td>\n",
              "    </tr>\n",
              "    <tr>\n",
              "      <th>2705</th>\n",
              "      <td>NaN</td>\n",
              "      <td>No</td>\n",
              "      <td>9.0</td>\n",
              "      <td>5.0</td>\n",
              "      <td>No</td>\n",
              "      <td>9.0</td>\n",
              "      <td>4.0</td>\n",
              "      <td>Extrovert</td>\n",
              "    </tr>\n",
              "    <tr>\n",
              "      <th>2711</th>\n",
              "      <td>NaN</td>\n",
              "      <td>No</td>\n",
              "      <td>4.0</td>\n",
              "      <td>6.0</td>\n",
              "      <td>No</td>\n",
              "      <td>12.0</td>\n",
              "      <td>3.0</td>\n",
              "      <td>Extrovert</td>\n",
              "    </tr>\n",
              "    <tr>\n",
              "      <th>2715</th>\n",
              "      <td>NaN</td>\n",
              "      <td>No</td>\n",
              "      <td>6.0</td>\n",
              "      <td>6.0</td>\n",
              "      <td>No</td>\n",
              "      <td>14.0</td>\n",
              "      <td>6.0</td>\n",
              "      <td>Extrovert</td>\n",
              "    </tr>\n",
              "    <tr>\n",
              "      <th>2772</th>\n",
              "      <td>NaN</td>\n",
              "      <td>No</td>\n",
              "      <td>7.0</td>\n",
              "      <td>6.0</td>\n",
              "      <td>No</td>\n",
              "      <td>11.0</td>\n",
              "      <td>7.0</td>\n",
              "      <td>Extrovert</td>\n",
              "    </tr>\n",
              "    <tr>\n",
              "      <th>2787</th>\n",
              "      <td>NaN</td>\n",
              "      <td>NaN</td>\n",
              "      <td>1.0</td>\n",
              "      <td>2.0</td>\n",
              "      <td>Yes</td>\n",
              "      <td>4.0</td>\n",
              "      <td>2.0</td>\n",
              "      <td>Introvert</td>\n",
              "    </tr>\n",
              "  </tbody>\n",
              "</table>\n",
              "<p>63 rows × 8 columns</p>\n",
              "</div>"
            ],
            "text/plain": [
              "      Time_spent_Alone Stage_fear  Social_event_attendance  Going_outside  \\\n",
              "59                 NaN         No                      9.0            4.0   \n",
              "125                NaN        Yes                      3.0            0.0   \n",
              "171                NaN         No                      4.0            7.0   \n",
              "180                NaN         No                      8.0            5.0   \n",
              "207                NaN        Yes                      2.0            2.0   \n",
              "...                ...        ...                      ...            ...   \n",
              "2705               NaN         No                      9.0            5.0   \n",
              "2711               NaN         No                      4.0            6.0   \n",
              "2715               NaN         No                      6.0            6.0   \n",
              "2772               NaN         No                      7.0            6.0   \n",
              "2787               NaN        NaN                      1.0            2.0   \n",
              "\n",
              "     Drained_after_socializing  Friends_circle_size  Post_frequency  \\\n",
              "59                          No                  7.0             5.0   \n",
              "125                        Yes                  2.0             1.0   \n",
              "171                         No                  7.0             5.0   \n",
              "180                         No                  9.0             4.0   \n",
              "207                        Yes                  1.0             2.0   \n",
              "...                        ...                  ...             ...   \n",
              "2705                        No                  9.0             4.0   \n",
              "2711                        No                 12.0             3.0   \n",
              "2715                        No                 14.0             6.0   \n",
              "2772                        No                 11.0             7.0   \n",
              "2787                       Yes                  4.0             2.0   \n",
              "\n",
              "     Personality  \n",
              "59     Extrovert  \n",
              "125    Introvert  \n",
              "171    Extrovert  \n",
              "180    Extrovert  \n",
              "207    Introvert  \n",
              "...          ...  \n",
              "2705   Extrovert  \n",
              "2711   Extrovert  \n",
              "2715   Extrovert  \n",
              "2772   Extrovert  \n",
              "2787   Introvert  \n",
              "\n",
              "[63 rows x 8 columns]"
            ]
          },
          "execution_count": 16,
          "metadata": {},
          "output_type": "execute_result"
        }
      ],
      "source": [
        "df[df['Time_spent_Alone'].isna()]"
      ]
    },
    {
      "cell_type": "code",
      "execution_count": 17,
      "metadata": {
        "id": "8MInc1Bv1UDz"
      },
      "outputs": [],
      "source": [
        "imputer = SimpleImputer(strategy='mean')\n",
        "df[numerical] = imputer.fit_transform(df[numerical])"
      ]
    },
    {
      "cell_type": "markdown",
      "metadata": {
        "id": "WUB7LElgf0ny"
      },
      "source": [
        "Pada kode di atas kita akan mengganti kolom NaN dengan nilai rata-rata dari setiap fitur yang ada."
      ]
    },
    {
      "cell_type": "code",
      "execution_count": 18,
      "metadata": {
        "colab": {
          "base_uri": "https://localhost:8080/",
          "height": 335
        },
        "id": "iBQnepF-fxTw",
        "outputId": "ad060cc5-22d2-4dd8-9139-2b9bbf6db871"
      },
      "outputs": [
        {
          "data": {
            "text/plain": [
              "Time_spent_Alone              0\n",
              "Stage_fear                   73\n",
              "Social_event_attendance       0\n",
              "Going_outside                 0\n",
              "Drained_after_socializing    52\n",
              "Friends_circle_size           0\n",
              "Post_frequency                0\n",
              "Personality                   0\n",
              "dtype: int64"
            ]
          },
          "execution_count": 18,
          "metadata": {},
          "output_type": "execute_result"
        }
      ],
      "source": [
        "df.isna().sum()"
      ]
    },
    {
      "cell_type": "code",
      "execution_count": 20,
      "metadata": {},
      "outputs": [],
      "source": [
        "imputer = SimpleImputer(strategy='constant', fill_value='missing')\n",
        "df[categorical] = imputer.fit_transform(df[categorical])"
      ]
    },
    {
      "cell_type": "markdown",
      "metadata": {},
      "source": [
        "Kode di atas digunakan untuk mengganti kolom NaN pada data karegorik dengan nilai 'missing'."
      ]
    },
    {
      "cell_type": "code",
      "execution_count": 19,
      "metadata": {
        "colab": {
          "base_uri": "https://localhost:8080/",
          "height": 335
        },
        "id": "cilaH9aUhnOF",
        "outputId": "5875d879-acd2-4ed8-dceb-707f1e50a8c1"
      },
      "outputs": [
        {
          "data": {
            "text/plain": [
              "Time_spent_Alone             0\n",
              "Stage_fear                   0\n",
              "Social_event_attendance      0\n",
              "Going_outside                0\n",
              "Drained_after_socializing    0\n",
              "Friends_circle_size          0\n",
              "Post_frequency               0\n",
              "Personality                  0\n",
              "dtype: int64"
            ]
          },
          "execution_count": 19,
          "metadata": {},
          "output_type": "execute_result"
        }
      ],
      "source": [
        "df.isna().sum()"
      ]
    },
    {
      "cell_type": "markdown",
      "metadata": {
        "id": "eKyE1trGidkI"
      },
      "source": [
        "2. Menghapus Data Duplikat"
      ]
    },
    {
      "cell_type": "code",
      "execution_count": 20,
      "metadata": {
        "colab": {
          "base_uri": "https://localhost:8080/"
        },
        "id": "hWCIommhh18A",
        "outputId": "d386721f-f9c1-4f3c-9521-42a90e430c79"
      },
      "outputs": [
        {
          "name": "stdout",
          "output_type": "stream",
          "text": [
            "Jumlah duplikat: 392\n"
          ]
        }
      ],
      "source": [
        "print(\"Jumlah duplikat:\", df.duplicated().sum())"
      ]
    },
    {
      "cell_type": "markdown",
      "metadata": {
        "id": "deIIGZWji89E"
      },
      "source": [
        "Terdapat 423 baris duplikat, kita akan menghapusnya menggunakan .drop_duplicates"
      ]
    },
    {
      "cell_type": "code",
      "execution_count": 21,
      "metadata": {
        "id": "F400PLJXiiwx"
      },
      "outputs": [],
      "source": [
        "# Hapus duplikat\n",
        "df.drop_duplicates(inplace=True)"
      ]
    },
    {
      "cell_type": "markdown",
      "metadata": {
        "id": "T-fJr7XyjRx7"
      },
      "source": [
        "3. Standarisasi Fitur"
      ]
    },
    {
      "cell_type": "code",
      "execution_count": 22,
      "metadata": {
        "id": "OzplB92EirXc"
      },
      "outputs": [],
      "source": [
        "scaler = StandardScaler()\n",
        "df[numerical] = scaler.fit_transform(df[numerical])"
      ]
    },
    {
      "cell_type": "markdown",
      "metadata": {
        "id": "WO9Kh51u2v3v"
      },
      "source": [
        "4. Encoding Data Kategorikal"
      ]
    },
    {
      "cell_type": "code",
      "execution_count": 32,
      "metadata": {
        "id": "mPsmwcFV2tzM"
      },
      "outputs": [],
      "source": [
        "encoder = OrdinalEncoder()\n",
        "df[categorical] = encoder.fit_transform(df[categorical])"
      ]
    },
    {
      "cell_type": "code",
      "execution_count": 33,
      "metadata": {},
      "outputs": [
        {
          "data": {
            "text/html": [
              "<div>\n",
              "<style scoped>\n",
              "    .dataframe tbody tr th:only-of-type {\n",
              "        vertical-align: middle;\n",
              "    }\n",
              "\n",
              "    .dataframe tbody tr th {\n",
              "        vertical-align: top;\n",
              "    }\n",
              "\n",
              "    .dataframe thead th {\n",
              "        text-align: right;\n",
              "    }\n",
              "</style>\n",
              "<table border=\"1\" class=\"dataframe\">\n",
              "  <thead>\n",
              "    <tr style=\"text-align: right;\">\n",
              "      <th></th>\n",
              "      <th>Time_spent_Alone</th>\n",
              "      <th>Stage_fear</th>\n",
              "      <th>Social_event_attendance</th>\n",
              "      <th>Going_outside</th>\n",
              "      <th>Drained_after_socializing</th>\n",
              "      <th>Friends_circle_size</th>\n",
              "      <th>Post_frequency</th>\n",
              "      <th>Personality</th>\n",
              "    </tr>\n",
              "  </thead>\n",
              "  <tbody>\n",
              "    <tr>\n",
              "      <th>0</th>\n",
              "      <td>-0.064497</td>\n",
              "      <td>0.0</td>\n",
              "      <td>-0.072959</td>\n",
              "      <td>1.262889</td>\n",
              "      <td>0.0</td>\n",
              "      <td>1.505618</td>\n",
              "      <td>0.404043</td>\n",
              "      <td>0.0</td>\n",
              "    </tr>\n",
              "    <tr>\n",
              "      <th>1</th>\n",
              "      <td>1.403760</td>\n",
              "      <td>1.0</td>\n",
              "      <td>-1.465081</td>\n",
              "      <td>-1.442300</td>\n",
              "      <td>1.0</td>\n",
              "      <td>-1.547982</td>\n",
              "      <td>-0.282636</td>\n",
              "      <td>1.0</td>\n",
              "    </tr>\n",
              "    <tr>\n",
              "      <th>2</th>\n",
              "      <td>1.403760</td>\n",
              "      <td>1.0</td>\n",
              "      <td>-1.117050</td>\n",
              "      <td>-0.540570</td>\n",
              "      <td>1.0</td>\n",
              "      <td>-0.373520</td>\n",
              "      <td>-0.625975</td>\n",
              "      <td>1.0</td>\n",
              "    </tr>\n",
              "    <tr>\n",
              "      <th>3</th>\n",
              "      <td>-1.239103</td>\n",
              "      <td>0.0</td>\n",
              "      <td>0.623101</td>\n",
              "      <td>1.713754</td>\n",
              "      <td>0.0</td>\n",
              "      <td>1.740510</td>\n",
              "      <td>1.434061</td>\n",
              "      <td>0.0</td>\n",
              "    </tr>\n",
              "    <tr>\n",
              "      <th>4</th>\n",
              "      <td>-0.358149</td>\n",
              "      <td>0.0</td>\n",
              "      <td>1.667192</td>\n",
              "      <td>0.361159</td>\n",
              "      <td>0.0</td>\n",
              "      <td>0.331157</td>\n",
              "      <td>0.404043</td>\n",
              "      <td>0.0</td>\n",
              "    </tr>\n",
              "  </tbody>\n",
              "</table>\n",
              "</div>"
            ],
            "text/plain": [
              "   Time_spent_Alone  Stage_fear  Social_event_attendance  Going_outside  \\\n",
              "0         -0.064497         0.0                -0.072959       1.262889   \n",
              "1          1.403760         1.0                -1.465081      -1.442300   \n",
              "2          1.403760         1.0                -1.117050      -0.540570   \n",
              "3         -1.239103         0.0                 0.623101       1.713754   \n",
              "4         -0.358149         0.0                 1.667192       0.361159   \n",
              "\n",
              "   Drained_after_socializing  Friends_circle_size  Post_frequency  Personality  \n",
              "0                        0.0             1.505618        0.404043          0.0  \n",
              "1                        1.0            -1.547982       -0.282636          1.0  \n",
              "2                        1.0            -0.373520       -0.625975          1.0  \n",
              "3                        0.0             1.740510        1.434061          0.0  \n",
              "4                        0.0             0.331157        0.404043          0.0  "
            ]
          },
          "execution_count": 33,
          "metadata": {},
          "output_type": "execute_result"
        }
      ],
      "source": [
        "df.head()"
      ]
    },
    {
      "cell_type": "markdown",
      "metadata": {
        "id": "m22WF8dY5mzx"
      },
      "source": [
        "### Spliting Data"
      ]
    },
    {
      "cell_type": "code",
      "execution_count": 34,
      "metadata": {
        "id": "nlYKJNr84KkB"
      },
      "outputs": [],
      "source": [
        "X = df.drop('Personality', axis=1)\n",
        "y = df['Personality']\n",
        "X_train, X_test, y_train, y_test = train_test_split(X, y, test_size=0.3, random_state=42)"
      ]
    },
    {
      "cell_type": "code",
      "execution_count": 35,
      "metadata": {},
      "outputs": [],
      "source": [
        "from sklearn.ensemble import RandomForestClassifier\n",
        "from sklearn.model_selection import GridSearchCV\n"
      ]
    },
    {
      "cell_type": "code",
      "execution_count": 36,
      "metadata": {},
      "outputs": [],
      "source": [
        "param_grid = {\n",
        "        'n_estimators': [50, 100, 200, 300, 505, 700],\n",
        "        'max_depth': [5, 10, 15, 20, 25, 37, 50],\n",
        "        'min_samples_split': [2, 5, 10],\n",
        "        'min_samples_leaf': [1, 2, 4]\n",
        "    }\n",
        "    \n",
        "    # Inisialisasi dan GridSearch\n",
        "    # Imitializer RandomForestClassifier\n",
        "rf = RandomForestClassifier()\n",
        "    \n",
        "# Perform GridSearch\n",
        "grid_search = GridSearchCV(estimator=rf, param_grid=param_grid, cv=5, scoring='accuracy')\n",
        "grid_search.fit(X_train, y_train)\n",
        "\n",
        "# Mendapatkan parameter dan model terbaik\n",
        "best_params = grid_search.best_params_\n",
        "best_model = grid_search.best_estimator_"
      ]
    },
    {
      "cell_type": "code",
      "execution_count": 38,
      "metadata": {},
      "outputs": [
        {
          "name": "stdout",
          "output_type": "stream",
          "text": [
            "Best Parameters: {'max_depth': 5, 'min_samples_leaf': 1, 'min_samples_split': 2, 'n_estimators': 50}\n",
            "Best Score (CV Accuracy): 0.9253561253561253\n"
          ]
        }
      ],
      "source": [
        "print(\"Best Parameters:\", grid_search.best_params_)\n",
        "print(\"Best Score (CV Accuracy):\", grid_search.best_score_)"
      ]
    },
    {
      "cell_type": "code",
      "execution_count": null,
      "metadata": {},
      "outputs": [],
      "source": [
        "best_model.fit(X_train, y_train)"
      ]
    }
  ],
  "metadata": {
    "colab": {
      "provenance": []
    },
    "kernelspec": {
      "display_name": "membangun_model_ML-zVPH5Jt5",
      "language": "python",
      "name": "python3"
    },
    "language_info": {
      "codemirror_mode": {
        "name": "ipython",
        "version": 3
      },
      "file_extension": ".py",
      "mimetype": "text/x-python",
      "name": "python",
      "nbconvert_exporter": "python",
      "pygments_lexer": "ipython3",
      "version": "3.11.2"
    }
  },
  "nbformat": 4,
  "nbformat_minor": 0
}
